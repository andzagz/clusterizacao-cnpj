{
  "nbformat": 4,
  "nbformat_minor": 0,
  "metadata": {
    "colab": {
      "provenance": [],
      "authorship_tag": "ABX9TyPt1X0b8+NarMARpk4sKEI1",
      "include_colab_link": true
    },
    "kernelspec": {
      "name": "python3",
      "display_name": "Python 3"
    },
    "language_info": {
      "name": "python"
    }
  },
  "cells": [
    {
      "cell_type": "markdown",
      "metadata": {
        "id": "view-in-github",
        "colab_type": "text"
      },
      "source": [
        "<a href=\"https://colab.research.google.com/github/andzagz/clusterizacao-cnpj/blob/main/Movies.ipynb\" target=\"_parent\"><img src=\"https://colab.research.google.com/assets/colab-badge.svg\" alt=\"Open In Colab\"/></a>"
      ]
    },
    {
      "cell_type": "code",
      "source": [
        "!pip install requests"
      ],
      "metadata": {
        "colab": {
          "base_uri": "https://localhost:8080/"
        },
        "id": "Uko6AYzIJ1PP",
        "outputId": "c771c86f-1309-4e75-ef5d-397cc7a415d4"
      },
      "execution_count": null,
      "outputs": [
        {
          "output_type": "stream",
          "name": "stdout",
          "text": [
            "Requirement already satisfied: requests in /usr/local/lib/python3.10/dist-packages (2.32.3)\n",
            "Requirement already satisfied: charset-normalizer<4,>=2 in /usr/local/lib/python3.10/dist-packages (from requests) (3.3.2)\n",
            "Requirement already satisfied: idna<4,>=2.5 in /usr/local/lib/python3.10/dist-packages (from requests) (3.10)\n",
            "Requirement already satisfied: urllib3<3,>=1.21.1 in /usr/local/lib/python3.10/dist-packages (from requests) (2.2.3)\n",
            "Requirement already satisfied: certifi>=2017.4.17 in /usr/local/lib/python3.10/dist-packages (from requests) (2024.8.30)\n"
          ]
        }
      ]
    },
    {
      "cell_type": "code",
      "source": [
        "import requests\n",
        "import pandas as pd\n",
        "\n",
        "# Function to retrieve the film's budget from its Detail URL\n",
        "def get_budget_from_detail_url(detail_url):\n",
        "    try:\n",
        "        # Perform a GET request to the film's Detail URL\n",
        "        detail_response = requests.get(detail_url)\n",
        "\n",
        "        # Check if the request was successful\n",
        "        if detail_response.status_code == 200:\n",
        "            detail_data = detail_response.json()  # Convert the response to JSON\n",
        "            budget = detail_data.get('Budget', 'N/A')  # Extract the 'Budget' value\n",
        "            return budget\n",
        "        else:\n",
        "            return 'N/A'  # Return 'N/A' if the request failed\n",
        "    except Exception as e:\n",
        "        # Return an error message in case of exceptions (e.g., network issues)\n",
        "        return 'Error'\n",
        "\n",
        "# Main function to retrieve film data from the provided URL\n",
        "def get_films_data(url):\n",
        "    film_data = []  # Initialize an empty list to store film data\n",
        "\n",
        "    # Perform a GET request to the main URL to retrieve the film list\n",
        "    response = requests.get(url)\n",
        "\n",
        "    # Verify if the request was successful (HTTP status 200)\n",
        "    if response.status_code == 200:\n",
        "        data = response.json()  # Convert the response to JSON format\n",
        "\n",
        "        # Iterate over the results (grouped by year)\n",
        "        for result in data['results']:\n",
        "            year = result.get('year', 'N/A')  # Extract the 'year' from the data\n",
        "\n",
        "            # Iterate over the films in the current result set\n",
        "            for film in result['films']:\n",
        "                film_title = film.get('Film', 'N/A')  # Extract the film's title\n",
        "                wiki_url = film.get('Wiki URL', 'N/A')  # Extract the Wikipedia URL\n",
        "                winner = film.get('Winner', 'N/A')  # Extract the 'Winner' status\n",
        "                detail_url = film.get('Detail URL', 'N/A')  # Extract the Detail URL\n",
        "\n",
        "                # Retrieve the film's budget using the Detail URL\n",
        "                budget = get_budget_from_detail_url(detail_url)\n",
        "\n",
        "                # Append the extracted film details to the list\n",
        "                film_data.append({\n",
        "                    'Film': film_title,\n",
        "                    'Year': year,\n",
        "                    'Wiki URL': wiki_url,\n",
        "                    'Winner': winner,\n",
        "                    'Budget': budget\n",
        "                })\n",
        "    else:\n",
        "        # Print a message if the request to the main URL failed\n",
        "        print(f\"Request failed. Status code: {response.status_code}\")\n",
        "\n",
        "    # Return the collected film data as a DataFrame\n",
        "    return pd.DataFrame(film_data)\n",
        "\n",
        "# Main URL where the film data is located\n",
        "url = 'http://oscars.yipitdata.com/'\n",
        "\n",
        "# Fetch the film data and store it in a DataFrame\n",
        "df_films = get_films_data(url)\n",
        "\n",
        "# Export the DataFrame to an Excel file\n",
        "df_films.to_excel('film_details.xlsx', index=False)\n",
        "\n",
        "print(\"Data exported to 'film_details.xlsx'\")\n"
      ],
      "metadata": {
        "colab": {
          "base_uri": "https://localhost:8080/"
        },
        "id": "AEnlTFfka26e",
        "outputId": "a358eb16-8bc1-4f87-8b19-c307f09b9aaf"
      },
      "execution_count": null,
      "outputs": [
        {
          "output_type": "stream",
          "name": "stdout",
          "text": [
            "Data exported to 'film_details.xlsx'\n"
          ]
        }
      ]
    },
    {
      "cell_type": "code",
      "source": [
        "from google.colab import files\n",
        "files.download('filmes_detalhes.xlsx')"
      ],
      "metadata": {
        "colab": {
          "base_uri": "https://localhost:8080/",
          "height": 17
        },
        "id": "FpZMU5RHKyqm",
        "outputId": "4f7b61de-6cfc-4a60-dbe0-b25e07331803"
      },
      "execution_count": null,
      "outputs": [
        {
          "output_type": "display_data",
          "data": {
            "text/plain": [
              "<IPython.core.display.Javascript object>"
            ],
            "application/javascript": [
              "\n",
              "    async function download(id, filename, size) {\n",
              "      if (!google.colab.kernel.accessAllowed) {\n",
              "        return;\n",
              "      }\n",
              "      const div = document.createElement('div');\n",
              "      const label = document.createElement('label');\n",
              "      label.textContent = `Downloading \"${filename}\": `;\n",
              "      div.appendChild(label);\n",
              "      const progress = document.createElement('progress');\n",
              "      progress.max = size;\n",
              "      div.appendChild(progress);\n",
              "      document.body.appendChild(div);\n",
              "\n",
              "      const buffers = [];\n",
              "      let downloaded = 0;\n",
              "\n",
              "      const channel = await google.colab.kernel.comms.open(id);\n",
              "      // Send a message to notify the kernel that we're ready.\n",
              "      channel.send({})\n",
              "\n",
              "      for await (const message of channel.messages) {\n",
              "        // Send a message to notify the kernel that we're ready.\n",
              "        channel.send({})\n",
              "        if (message.buffers) {\n",
              "          for (const buffer of message.buffers) {\n",
              "            buffers.push(buffer);\n",
              "            downloaded += buffer.byteLength;\n",
              "            progress.value = downloaded;\n",
              "          }\n",
              "        }\n",
              "      }\n",
              "      const blob = new Blob(buffers, {type: 'application/binary'});\n",
              "      const a = document.createElement('a');\n",
              "      a.href = window.URL.createObjectURL(blob);\n",
              "      a.download = filename;\n",
              "      div.appendChild(a);\n",
              "      a.click();\n",
              "      div.remove();\n",
              "    }\n",
              "  "
            ]
          },
          "metadata": {}
        },
        {
          "output_type": "display_data",
          "data": {
            "text/plain": [
              "<IPython.core.display.Javascript object>"
            ],
            "application/javascript": [
              "download(\"download_b8183a01-8af5-4e6c-af12-83e82c3795b6\", \"filmes_detalhes.xlsx\", 28030)"
            ]
          },
          "metadata": {}
        }
      ]
    },
    {
      "cell_type": "code",
      "source": [
        "import pandas as pd\n",
        "\n",
        "# Load the DataFrame from the previously created Excel file\n",
        "df_films = pd.read_excel('film_details.xlsx')\n",
        "\n",
        "# Create a new column 'Budget1' by copying data from the 'Budget' column\n",
        "# Replace invalid budget values ('N/A' and 'Erro') with 0 and fill any missing values with 0\n",
        "df_films['Budget1'] = df_films['Budget'].replace({'N/A': 0, 'Erro': 0}).fillna(0)\n",
        "\n",
        "# Export the updated DataFrame to a new Excel file\n",
        "df_films.to_excel('updated_film_details.xlsx', index=False)\n",
        "\n",
        "print(\"Data updated and exported to 'updated_film_details.xlsx'\")\n"
      ],
      "metadata": {
        "colab": {
          "base_uri": "https://localhost:8080/"
        },
        "id": "4VkI-7f5q6tZ",
        "outputId": "55facbf1-e6fb-4063-eedc-ebd4529f2c3c"
      },
      "execution_count": null,
      "outputs": [
        {
          "output_type": "stream",
          "name": "stdout",
          "text": [
            "Data updated and exported to 'updated_film_details.xlsx'\n"
          ]
        }
      ]
    },
    {
      "cell_type": "code",
      "source": [
        "from google.colab import files\n",
        "files.download('filmes_detalhes_atualizados.xlsx')"
      ],
      "metadata": {
        "colab": {
          "base_uri": "https://localhost:8080/",
          "height": 17
        },
        "id": "blYnMaIargz8",
        "outputId": "bc198414-742a-4d7f-bc96-7d954527e3e3"
      },
      "execution_count": null,
      "outputs": [
        {
          "output_type": "display_data",
          "data": {
            "text/plain": [
              "<IPython.core.display.Javascript object>"
            ],
            "application/javascript": [
              "\n",
              "    async function download(id, filename, size) {\n",
              "      if (!google.colab.kernel.accessAllowed) {\n",
              "        return;\n",
              "      }\n",
              "      const div = document.createElement('div');\n",
              "      const label = document.createElement('label');\n",
              "      label.textContent = `Downloading \"${filename}\": `;\n",
              "      div.appendChild(label);\n",
              "      const progress = document.createElement('progress');\n",
              "      progress.max = size;\n",
              "      div.appendChild(progress);\n",
              "      document.body.appendChild(div);\n",
              "\n",
              "      const buffers = [];\n",
              "      let downloaded = 0;\n",
              "\n",
              "      const channel = await google.colab.kernel.comms.open(id);\n",
              "      // Send a message to notify the kernel that we're ready.\n",
              "      channel.send({})\n",
              "\n",
              "      for await (const message of channel.messages) {\n",
              "        // Send a message to notify the kernel that we're ready.\n",
              "        channel.send({})\n",
              "        if (message.buffers) {\n",
              "          for (const buffer of message.buffers) {\n",
              "            buffers.push(buffer);\n",
              "            downloaded += buffer.byteLength;\n",
              "            progress.value = downloaded;\n",
              "          }\n",
              "        }\n",
              "      }\n",
              "      const blob = new Blob(buffers, {type: 'application/binary'});\n",
              "      const a = document.createElement('a');\n",
              "      a.href = window.URL.createObjectURL(blob);\n",
              "      a.download = filename;\n",
              "      div.appendChild(a);\n",
              "      a.click();\n",
              "      div.remove();\n",
              "    }\n",
              "  "
            ]
          },
          "metadata": {}
        },
        {
          "output_type": "display_data",
          "data": {
            "text/plain": [
              "<IPython.core.display.Javascript object>"
            ],
            "application/javascript": [
              "download(\"download_c0f95045-0a88-49f5-ae88-e3fa17dbd7ec\", \"filmes_detalhes_atualizados.xlsx\", 30016)"
            ]
          },
          "metadata": {}
        }
      ]
    },
    {
      "cell_type": "code",
      "source": [
        "import pandas as pd\n",
        "import re\n",
        "\n",
        "# Load the DataFrame from the previously updated Excel file\n",
        "df_films = pd.read_excel('updated_film_details.xlsx')\n",
        "\n",
        "# Dictionary of exchange rates (example, fictional values)\n",
        "exchange_rates = {\n",
        "    '£': 1.37,  # British Pound to US Dollar\n",
        "    '₤': 1.37,  # British Pound to US Dollar\n",
        "    '€': 1.10,  # Euro to US Dollar\n",
        "    'US$': 1.0,  # US Dollar to US Dollar\n",
        "    '$': 1.0    # US Dollar to US Dollar\n",
        "}\n",
        "\n",
        "def convert_million_to_number(value_str):\n",
        "    \"\"\"Convert values containing 'million' into a full numeric format.\"\"\"\n",
        "    try:\n",
        "        return f\"{float(value_str.replace(',', '')) * 1_000_000:,.0f}\".replace(\",\", \".\")\n",
        "    except ValueError:\n",
        "        return 'N/A'\n",
        "\n",
        "def extract_budget(budget_str):\n",
        "    \"\"\"Extract and convert the budget from the given string format.\"\"\"\n",
        "    if not isinstance(budget_str, str):  # Check if budget_str is a string\n",
        "        return 'N/A'\n",
        "\n",
        "    # Remove brackets and any content within them\n",
        "    budget_str = re.sub(r'\\[\\s*\\d+\\s*\\]', '', budget_str)\n",
        "\n",
        "    # 1. Handle cases with \"million\" in ranges, such as \"$8–8.5 million\"\n",
        "    range_million_matches = re.findall(r'\\$([\\d,.]+)\\s*[–-]\\s*\\$?([\\d,.]+)\\s*million', budget_str, re.IGNORECASE)\n",
        "    if range_million_matches:\n",
        "        # Get the minimum value from the range and convert to millions\n",
        "        min_value = min(float(match.replace(',', '')) for match in range_million_matches[0])\n",
        "        return f\"${min_value * 1_000_000:,.0f}\".replace(\",\", \".\")\n",
        "\n",
        "    # 2. Handle cases with \"million\" in different currencies\n",
        "    million_matches = re.findall(r'([£₤€$US\\$])\\s*([\\d,.]+)\\s*million(?:\\s*\\[\\s*\\d+\\s*\\])?', budget_str, re.IGNORECASE)\n",
        "    if million_matches:\n",
        "        # Convert to full numeric format\n",
        "        return f\"{million_matches[0][0]}{convert_million_to_number(million_matches[0][1])}\"\n",
        "\n",
        "    # 3. If there are ranges, get the minimum value (without \"million\")\n",
        "    range_matches = re.findall(r'\\$([\\d,]+(?:\\.\\d+)?)\\s*–\\s*\\$([\\d,]+(?:\\.\\d+)?)', budget_str, re.IGNORECASE)\n",
        "    if range_matches:\n",
        "        return f\"${min(float(match.replace(',', '')) for match in range_matches[0]):,.0f}\"\n",
        "\n",
        "    # 4. Extract direct dollar values, with or without references\n",
        "    dollar_matches = re.findall(r'\\$\\s*([\\d,]+(?:\\.\\d+)?)(?:\\s*million)?(?:\\s*\\[\\s*\\d+\\s*\\])?', budget_str)\n",
        "    if dollar_matches and 'million' not in budget_str.lower():\n",
        "        return f\"${dollar_matches[0]}\"\n",
        "\n",
        "    # 5. Check for other currency identifiers and direct values\n",
        "    other_currency_matches = re.findall(r'([£₤€]|US\\$)\\s*([\\d,]+(?:\\.\\d+)?)(?:\\s*million)?(?:\\s*\\[\\s*\\d+\\s*\\])?', budget_str)\n",
        "    if other_currency_matches and 'million' not in budget_str.lower():\n",
        "        return f\"{other_currency_matches[0][0]}{other_currency_matches[0][1]}\"\n",
        "\n",
        "    # 6. Handle cases with \"or\" and multiple options\n",
        "    or_matches = re.findall(r'\\$(\\d+(?:,\\d{3})*(?:\\.\\d+)?)\\s*or\\s*([£₤€])\\s*(\\d+(?:,\\d{3})*(?:\\.\\d+)?)', budget_str)\n",
        "    if or_matches:\n",
        "        return f\"${or_matches[0][0]}\"\n",
        "\n",
        "    # 7. If no value is found, return N/A\n",
        "    return 'N/A'\n",
        "\n",
        "# Create the new 'Budget2' column by applying the extraction function\n",
        "df_films['Budget2'] = df_films['Budget1'].apply(extract_budget)\n",
        "\n",
        "# Function to extract the currency symbol and numeric value from the budget\n",
        "def extract_currency_and_value(budget_str):\n",
        "    if not isinstance(budget_str, str) or budget_str == 'N/A':\n",
        "        return 'N/A', 'N/A'\n",
        "\n",
        "    # 1. Extract the currency symbol (first character)\n",
        "    currency = budget_str[0]\n",
        "\n",
        "    # 2. Extract the numeric value (remove symbol and formatting)\n",
        "    value_str = re.sub(r'[^\\d]', '', budget_str)  # Remove anything that is not a number\n",
        "    return currency, value_str\n",
        "\n",
        "# Apply the function to create 'Currency' and 'Value' columns\n",
        "df_films[['Currency', 'Value']] = df_films['Budget2'].apply(lambda x: pd.Series(extract_currency_and_value(x)))\n",
        "\n",
        "# Function to convert values to USD based on the currency\n",
        "def convert_to_usd(currency, value):\n",
        "    if currency not in exchange_rates:\n",
        "        return 0  # Return 0 if the currency is not in the dictionary\n",
        "    value_numeric = float(value) if value != 'N/A' else 0\n",
        "    return value_numeric * exchange_rates[currency]\n",
        "\n",
        "# Create the 'USD Value' column by applying the conversion function\n",
        "df_films['USD Value'] = df_films.apply(lambda row: convert_to_usd(row['Currency'], row['Value']), axis=1)\n",
        "\n",
        "# Replace missing values, 'N/A', or NaN with 0 across all columns\n",
        "df_films.fillna(0, inplace=True)\n",
        "df_films.replace('N/A', 0, inplace=True)\n",
        "\n",
        "# Update the 'Year' column to contain the first 4 characters only (for formatting)\n",
        "df_films['Year'] = df_films['Year'].str.slice(0, 4)\n",
        "\n",
        "# Export the updated DataFrame to a new Excel file\n",
        "df_films.to_excel('film_details_with_budget2_and_new_columns.xlsx', index=False)\n",
        "\n",
        "print(\"Data updated and exported to 'film_details_with_budget2_and_new_columns.xlsx'\")\n"
      ],
      "metadata": {
        "colab": {
          "base_uri": "https://localhost:8080/"
        },
        "id": "Fj3nWGafuYaN",
        "outputId": "2d0d2ec7-f16d-4828-9a59-bb7187334618"
      },
      "execution_count": null,
      "outputs": [
        {
          "output_type": "stream",
          "name": "stdout",
          "text": [
            "Data updated and exported to 'film_details_with_budget2_and_new_columns.xlsx'\n"
          ]
        }
      ]
    },
    {
      "cell_type": "code",
      "source": [
        "from google.colab import files\n",
        "files.download('filmes_detalhes_com_budget2_e_novas_colunas.xlsx')"
      ],
      "metadata": {
        "colab": {
          "base_uri": "https://localhost:8080/",
          "height": 17
        },
        "id": "I8JsDTGruor5",
        "outputId": "42caff06-e70c-42d1-cac8-f6d7d07e8beb"
      },
      "execution_count": null,
      "outputs": [
        {
          "output_type": "display_data",
          "data": {
            "text/plain": [
              "<IPython.core.display.Javascript object>"
            ],
            "application/javascript": [
              "\n",
              "    async function download(id, filename, size) {\n",
              "      if (!google.colab.kernel.accessAllowed) {\n",
              "        return;\n",
              "      }\n",
              "      const div = document.createElement('div');\n",
              "      const label = document.createElement('label');\n",
              "      label.textContent = `Downloading \"${filename}\": `;\n",
              "      div.appendChild(label);\n",
              "      const progress = document.createElement('progress');\n",
              "      progress.max = size;\n",
              "      div.appendChild(progress);\n",
              "      document.body.appendChild(div);\n",
              "\n",
              "      const buffers = [];\n",
              "      let downloaded = 0;\n",
              "\n",
              "      const channel = await google.colab.kernel.comms.open(id);\n",
              "      // Send a message to notify the kernel that we're ready.\n",
              "      channel.send({})\n",
              "\n",
              "      for await (const message of channel.messages) {\n",
              "        // Send a message to notify the kernel that we're ready.\n",
              "        channel.send({})\n",
              "        if (message.buffers) {\n",
              "          for (const buffer of message.buffers) {\n",
              "            buffers.push(buffer);\n",
              "            downloaded += buffer.byteLength;\n",
              "            progress.value = downloaded;\n",
              "          }\n",
              "        }\n",
              "      }\n",
              "      const blob = new Blob(buffers, {type: 'application/binary'});\n",
              "      const a = document.createElement('a');\n",
              "      a.href = window.URL.createObjectURL(blob);\n",
              "      a.download = filename;\n",
              "      div.appendChild(a);\n",
              "      a.click();\n",
              "      div.remove();\n",
              "    }\n",
              "  "
            ]
          },
          "metadata": {}
        },
        {
          "output_type": "display_data",
          "data": {
            "text/plain": [
              "<IPython.core.display.Javascript object>"
            ],
            "application/javascript": [
              "download(\"download_5d3fc62a-deca-46e1-9cd5-33b39eb46cb1\", \"filmes_detalhes_com_budget2_e_novas_colunas.xlsx\", 38735)"
            ]
          },
          "metadata": {}
        }
      ]
    },
    {
      "cell_type": "code",
      "source": [
        "# Validation Step\n",
        "# 1) Check and replace missing values with 0\n",
        "if df_films.isnull().values.any():\n",
        "    print(\"Missing values found. Replacing with 0.\")\n",
        "    df_films.fillna(0, inplace=True)\n",
        "\n",
        "# 2) Check and remove duplicate values in the \"Film\" column\n",
        "duplicates = df_films.duplicated(subset=['Film'])\n",
        "if duplicates.any():\n",
        "    print(\"Duplicate values found in the 'Film' column. Removing duplicates.\")\n",
        "    df_films.drop_duplicates(subset=['Film'], inplace=True)\n",
        "\n",
        "# Export the updated DataFrame to a new Excel file\n",
        "df_films.to_excel('validated_film_details.xlsx', index=False)\n",
        "\n",
        "print(\"Validation completed and data exported to 'validated_film_details.xlsx'\")\n"
      ],
      "metadata": {
        "colab": {
          "base_uri": "https://localhost:8080/"
        },
        "id": "1GmBEYE0ojcg",
        "outputId": "fa21d6d9-44b4-49cc-eab9-c8577dee833b"
      },
      "execution_count": null,
      "outputs": [
        {
          "output_type": "stream",
          "name": "stdout",
          "text": [
            "Duplicate values found in the 'Film' column. Removing duplicates.\n",
            "Validation completed and data exported to 'validated_film_details.xlsx'\n"
          ]
        }
      ]
    },
    {
      "cell_type": "code",
      "source": [
        "# Resetting the format of columns\n",
        "df_films['Film'] = df_films['Film'].astype(str)  # Convert to string\n",
        "df_films['Year'] = pd.to_datetime(df_films['Year'].astype(str), format='%Y').dt.year  # Convert to datetime (year)\n",
        "df_films['Wiki URL'] = df_films['Wiki URL'].astype(str)  # Convert to string\n",
        "df_films['Winner'] = df_films['Winner'].map({'Y': True, 'N': False}).fillna(False)  # Convert to boolean (True/False)\n",
        "df_films['USD Value'] = df_films['USD Value'].astype(int)  # Convert to integer\n",
        "df_films = df_films.drop(columns=['Budget1', 'Budget2', 'Currency', 'Value'])  # Drop unnecessary columns\n",
        "# Export the new DataFrame to a CSV file\n",
        "df_films.to_csv('final_film_details.csv', index=False)\n",
        "\n",
        "print(\"New DataFrame exported to 'final_film_details.csv'\")\n"
      ],
      "metadata": {
        "colab": {
          "base_uri": "https://localhost:8080/"
        },
        "id": "2co9RR0Co4c-",
        "outputId": "acf5f0e9-0eb6-4a20-e6ca-97608f8dff5c"
      },
      "execution_count": null,
      "outputs": [
        {
          "output_type": "stream",
          "name": "stdout",
          "text": [
            "New DataFrame exported to 'final_film_details.csv'\n"
          ]
        },
        {
          "output_type": "stream",
          "name": "stderr",
          "text": [
            "<ipython-input-22-21299e0cf33a>:5: FutureWarning: Downcasting object dtype arrays on .fillna, .ffill, .bfill is deprecated and will change in a future version. Call result.infer_objects(copy=False) instead. To opt-in to the future behavior, set `pd.set_option('future.no_silent_downcasting', True)`\n",
            "  df_films['Winner'] = df_films['Winner'].map({'Y': True, 'N': False}).fillna(False)  # Convert to boolean (True/False)\n"
          ]
        }
      ]
    },
    {
      "cell_type": "code",
      "source": [
        "from google.colab import files\n",
        "files.download('final_film_details.csv')"
      ],
      "metadata": {
        "colab": {
          "base_uri": "https://localhost:8080/",
          "height": 17
        },
        "id": "utgLpOtuo7hA",
        "outputId": "aee8d3c4-df22-4521-8a12-6ca37697900b"
      },
      "execution_count": null,
      "outputs": [
        {
          "output_type": "display_data",
          "data": {
            "text/plain": [
              "<IPython.core.display.Javascript object>"
            ],
            "application/javascript": [
              "\n",
              "    async function download(id, filename, size) {\n",
              "      if (!google.colab.kernel.accessAllowed) {\n",
              "        return;\n",
              "      }\n",
              "      const div = document.createElement('div');\n",
              "      const label = document.createElement('label');\n",
              "      label.textContent = `Downloading \"${filename}\": `;\n",
              "      div.appendChild(label);\n",
              "      const progress = document.createElement('progress');\n",
              "      progress.max = size;\n",
              "      div.appendChild(progress);\n",
              "      document.body.appendChild(div);\n",
              "\n",
              "      const buffers = [];\n",
              "      let downloaded = 0;\n",
              "\n",
              "      const channel = await google.colab.kernel.comms.open(id);\n",
              "      // Send a message to notify the kernel that we're ready.\n",
              "      channel.send({})\n",
              "\n",
              "      for await (const message of channel.messages) {\n",
              "        // Send a message to notify the kernel that we're ready.\n",
              "        channel.send({})\n",
              "        if (message.buffers) {\n",
              "          for (const buffer of message.buffers) {\n",
              "            buffers.push(buffer);\n",
              "            downloaded += buffer.byteLength;\n",
              "            progress.value = downloaded;\n",
              "          }\n",
              "        }\n",
              "      }\n",
              "      const blob = new Blob(buffers, {type: 'application/binary'});\n",
              "      const a = document.createElement('a');\n",
              "      a.href = window.URL.createObjectURL(blob);\n",
              "      a.download = filename;\n",
              "      div.appendChild(a);\n",
              "      a.click();\n",
              "      div.remove();\n",
              "    }\n",
              "  "
            ]
          },
          "metadata": {}
        },
        {
          "output_type": "display_data",
          "data": {
            "text/plain": [
              "<IPython.core.display.Javascript object>"
            ],
            "application/javascript": [
              "download(\"download_714a9066-c5c5-4dae-bbb0-eac4fedef1dc\", \"final_film_details.csv\", 51871)"
            ]
          },
          "metadata": {}
        }
      ]
    },
    {
      "cell_type": "code",
      "source": [
        "from google.colab import files\n",
        "\n",
        "# Create the content for README.md\n",
        "readme_content = \"\"\"\n",
        "# ETL Project: Movie Data Analysis\n",
        "\n",
        "This project aims to perform an ETL (Extraction, Transformation, and Load) process to collect, process, and analyze data related to movies.\n",
        "\n",
        "## Project Structure\n",
        "\n",
        "The project consists of a Python script utilizing the `pandas` and `requests` libraries to perform the following stages:\n",
        "\n",
        "1. **Extraction**: Data collection from an API endpoint that provides information on movies.\n",
        "2. **Transformation**: Processing the extracted data.\n",
        "   2.1 The core logic relies on regular expressions (REGEX) to transform the data from the available endpoints.\n",
        "       Key transformations include cleaning the \"Budget\" and \"Year\" fields according to their specific characteristics.\n",
        "       2.1.1 The \"Budget\" field presents various challenges, such as differing currency symbols, units, missing values, ranges, and formats.\n",
        "       2.1.1.1 The first function, `convert_million_to_number`, is designed to identify and standardize string values representing different units into a common number or unit.\n",
        "       2.1.1.2 The second function, `extract_budget`, identifies the different currencies and ranges, applying a uniform pattern.\n",
        "       2.1.1.3 The third function, `convert_to_usd`, converts all identified currencies into USD.\n",
        "3. **Load**: Exporting the processed data to a CSV file.\n",
        "\n",
        "## Usage\n",
        "\n",
        "1. Clone this repository or download the Python script.\n",
        "2. Run the script in a Python environment.\n",
        "\n",
        "## Features\n",
        "\n",
        "- Collects movie budget data from an API.\n",
        "- Processes and cleans the collected data.\n",
        "\n",
        "### Example Usage:\n",
        "#### Functions Created:\n",
        "- `extract_and_transform_budget(budget_df)`\n",
        "\n",
        "**Purpose**: Extract and transform the budget values in the \"Budget1\" column and create the columns \"Budget2,\" \"Currency,\" \"Value,\" and \"USD Value.\"\n",
        "**Example Application**:\n",
        "```python\n",
        "extract_and_transform_budget(df)\n",
        "\"\"\"\n",
        "\n",
        "# Salvar o conteúdo em um arquivo README.md\n",
        "with open('README.md', 'w') as f:\n",
        "    f.write(readme_content)\n",
        "\n",
        "# Download do arquivo README.md\n",
        "files.download('README.md')\n"
      ],
      "metadata": {
        "colab": {
          "base_uri": "https://localhost:8080/",
          "height": 17
        },
        "id": "AxUqGjD5tSEx",
        "outputId": "408e3eb5-dca3-452f-bff5-4ea02ee29097"
      },
      "execution_count": null,
      "outputs": [
        {
          "output_type": "display_data",
          "data": {
            "text/plain": [
              "<IPython.core.display.Javascript object>"
            ],
            "application/javascript": [
              "\n",
              "    async function download(id, filename, size) {\n",
              "      if (!google.colab.kernel.accessAllowed) {\n",
              "        return;\n",
              "      }\n",
              "      const div = document.createElement('div');\n",
              "      const label = document.createElement('label');\n",
              "      label.textContent = `Downloading \"${filename}\": `;\n",
              "      div.appendChild(label);\n",
              "      const progress = document.createElement('progress');\n",
              "      progress.max = size;\n",
              "      div.appendChild(progress);\n",
              "      document.body.appendChild(div);\n",
              "\n",
              "      const buffers = [];\n",
              "      let downloaded = 0;\n",
              "\n",
              "      const channel = await google.colab.kernel.comms.open(id);\n",
              "      // Send a message to notify the kernel that we're ready.\n",
              "      channel.send({})\n",
              "\n",
              "      for await (const message of channel.messages) {\n",
              "        // Send a message to notify the kernel that we're ready.\n",
              "        channel.send({})\n",
              "        if (message.buffers) {\n",
              "          for (const buffer of message.buffers) {\n",
              "            buffers.push(buffer);\n",
              "            downloaded += buffer.byteLength;\n",
              "            progress.value = downloaded;\n",
              "          }\n",
              "        }\n",
              "      }\n",
              "      const blob = new Blob(buffers, {type: 'application/binary'});\n",
              "      const a = document.createElement('a');\n",
              "      a.href = window.URL.createObjectURL(blob);\n",
              "      a.download = filename;\n",
              "      div.appendChild(a);\n",
              "      a.click();\n",
              "      div.remove();\n",
              "    }\n",
              "  "
            ]
          },
          "metadata": {}
        },
        {
          "output_type": "display_data",
          "data": {
            "text/plain": [
              "<IPython.core.display.Javascript object>"
            ],
            "application/javascript": [
              "download(\"download_eb6daa5c-c521-48d5-bc64-533b48048729\", \"README.md\", 1819)"
            ]
          },
          "metadata": {}
        }
      ]
    },
    {
      "cell_type": "code",
      "source": [],
      "metadata": {
        "id": "S6ZNbWir6hN1"
      },
      "execution_count": null,
      "outputs": []
    }
  ]
}